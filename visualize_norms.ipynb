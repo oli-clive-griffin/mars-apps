{
 "cells": [
  {
   "cell_type": "code",
   "execution_count": 18,
   "metadata": {},
   "outputs": [],
   "source": [
    "from transformer_lens import HookedTransformer  # type: ignore"
   ]
  },
  {
   "cell_type": "code",
   "execution_count": 19,
   "metadata": {},
   "outputs": [
    {
     "name": "stdout",
     "output_type": "stream",
     "text": [
      "Loaded pretrained model gpt2 into HookedTransformer\n"
     ]
    }
   ],
   "source": [
    "model = HookedTransformer.from_pretrained(\"gpt2\")"
   ]
  },
  {
   "cell_type": "code",
   "execution_count": 20,
   "metadata": {},
   "outputs": [
    {
     "data": {
      "text/plain": [
       "tensor([[[ 7.5261, 11.1214,  7.8919,  ..., -3.1299, -3.3873,  8.5934],\n",
       "         [12.6877,  5.6732,  1.4202,  ..., -0.1857, -0.5829,  5.4394],\n",
       "         [ 7.0628,  2.4974,  1.9990,  ...,  0.3997, -1.0289,  6.9055],\n",
       "         ...,\n",
       "         [ 6.5808,  3.6308,  1.8215,  ...,  0.2447, -2.9500,  4.3658],\n",
       "         [12.5154,  6.8293,  3.7944,  ..., -1.0004, -1.5481,  5.7356],\n",
       "         [ 7.2098,  5.7401,  5.0575,  ..., -2.3576, -2.5064,  9.5046]]],\n",
       "       device='mps:0', grad_fn=<ViewBackward0>)"
      ]
     },
     "execution_count": 20,
     "metadata": {},
     "output_type": "execute_result"
    }
   ],
   "source": [
    "out, cache = model.run_with_cache(\"Hello, how are you?\")\n",
    "out"
   ]
  },
  {
   "cell_type": "code",
   "execution_count": 21,
   "metadata": {},
   "outputs": [
    {
     "data": {
      "text/plain": [
       "768"
      ]
     },
     "execution_count": 21,
     "metadata": {},
     "output_type": "execute_result"
    }
   ],
   "source": [
    "model.cfg.d_model"
   ]
  },
  {
   "cell_type": "code",
   "execution_count": 4,
   "metadata": {},
   "outputs": [
    {
     "data": {
      "text/plain": [
       "tensor([[3084.0552,  104.4712,   93.4986,   88.1998,   94.6973,   91.5668,\n",
       "           95.4919]], device='mps:0')"
      ]
     },
     "execution_count": 4,
     "metadata": {},
     "output_type": "execute_result"
    }
   ],
   "source": [
    "cache[\"blocks.6.hook_resid_post\"].norm(dim=-1)"
   ]
  },
  {
   "cell_type": "code",
   "execution_count": 5,
   "metadata": {},
   "outputs": [
    {
     "data": {
      "text/plain": [
       "TransformerBlock(\n",
       "  (ln1): LayerNormPre(\n",
       "    (hook_scale): HookPoint()\n",
       "    (hook_normalized): HookPoint()\n",
       "  )\n",
       "  (ln2): LayerNormPre(\n",
       "    (hook_scale): HookPoint()\n",
       "    (hook_normalized): HookPoint()\n",
       "  )\n",
       "  (attn): Attention(\n",
       "    (hook_k): HookPoint()\n",
       "    (hook_q): HookPoint()\n",
       "    (hook_v): HookPoint()\n",
       "    (hook_z): HookPoint()\n",
       "    (hook_attn_scores): HookPoint()\n",
       "    (hook_pattern): HookPoint()\n",
       "    (hook_result): HookPoint()\n",
       "  )\n",
       "  (mlp): MLP(\n",
       "    (hook_pre): HookPoint()\n",
       "    (hook_post): HookPoint()\n",
       "  )\n",
       "  (hook_attn_in): HookPoint()\n",
       "  (hook_q_input): HookPoint()\n",
       "  (hook_k_input): HookPoint()\n",
       "  (hook_v_input): HookPoint()\n",
       "  (hook_mlp_in): HookPoint()\n",
       "  (hook_attn_out): HookPoint()\n",
       "  (hook_mlp_out): HookPoint()\n",
       "  (hook_resid_pre): HookPoint()\n",
       "  (hook_resid_mid): HookPoint()\n",
       "  (hook_resid_post): HookPoint()\n",
       ")"
      ]
     },
     "execution_count": 5,
     "metadata": {},
     "output_type": "execute_result"
    }
   ],
   "source": [
    "model.blocks[6]"
   ]
  },
  {
   "cell_type": "code",
   "execution_count": 59,
   "metadata": {},
   "outputs": [],
   "source": [
    "import matplotlib.pyplot as plt\n",
    "import numpy as np\n",
    "from generate_activations import ActivationAccumulator\n",
    "\n",
    "# N = number of sequences\n",
    "# S = sequence length\n",
    "# D = d_model\n",
    "\n",
    "\n",
    "\n",
    "def plot_histogram(norms_N: np.ndarray, title: str):\n",
    "    plt.figure(figsize=(10, 6))\n",
    "    plt.hist(norms_N, bins=300, density=True, alpha=0.75, range=(norms_N.min(), norms_N.max()))\n",
    "    plt.xlabel(\"Norm\")\n",
    "    plt.ylabel(\"Density\")\n",
    "    plt.grid(True, alpha=0.2)\n",
    "    plt.yscale('log')  # Add log scale for y-axis\n",
    "    plt.title(title)\n",
    "    plt.show()\n",
    "    plt.close()\n",
    "\n",
    "\n",
    "def plot_histogram_bounded(norms_N: np.ndarray, title: str):\n",
    "    plt.figure(figsize=(10, 6))\n",
    "    plt.hist(norms_N, bins=100, density=True, alpha=0.75, range=(30, 120))\n",
    "    plt.xlabel(\"Norm\")\n",
    "    plt.ylabel(\"Density\")\n",
    "    plt.grid(True, alpha=0.2)\n",
    "    plt.title(title)\n",
    "    plt.show()\n",
    "    plt.close()\n",
    "\n",
    "\n",
    "def get_norms(activation_accumulator: ActivationAccumulator):\n",
    "    activations_NSD = activation_accumulator.get_activations()\n",
    "    N, S, D = activations_NSD.shape\n",
    "    activations_ND = np.reshape(activations_NSD, (N * S, D))\n",
    "\n",
    "    norms_N = np.linalg.norm(activations_ND, axis=1)\n",
    "\n",
    "    mean_activation_D = activations_ND.mean(axis=0)\n",
    "    activations_ND_shift = activations_ND - mean_activation_D\n",
    "    norms_centered_N = np.linalg.norm(activations_ND_shift, axis=1)\n",
    "\n",
    "    return norms_N, norms_centered_N\n"
   ]
  },
  {
   "cell_type": "code",
   "execution_count": 71,
   "metadata": {},
   "outputs": [
    {
     "name": "stdout",
     "output_type": "stream",
     "text": [
      "allocating space for 1000 sequences of activations\n",
      "Loaded 999 sequences of activations\n",
      "allocating space for 5461 sequences of activations\n",
      "Loaded 1279 sequences of activations\n",
      "allocating space for 5461 sequences of activations\n",
      "Loaded 1279 sequences of activations\n"
     ]
    }
   ],
   "source": [
    "from pathlib import Path\n",
    "\n",
    "# tinystories\n",
    "ts_resid_post_path = Path(\"data\") / \"roneneldan/TinyStories\" / \"blocks.6.hook_resid_post\" / \"activations9.npy\"\n",
    "ts_resid_post_acc = ActivationAccumulator.load(ts_resid_post_path)\n",
    "\n",
    "ts_ln2_path = Path(\"data\") / \"roneneldan/TinyStories\" / \"blocks.6.ln2.hook_normalized\" / \"activations9.npy\"\n",
    "ts_ln2_acc = ActivationAccumulator.load(ts_ln2_path)\n",
    "\n",
    "ts_lns_path = Path(\"data\") / \"roneneldan/TinyStories\" / \"blocks.6.ln2.hook_scale\" / \"activations9.npy\"\n",
    "ts_lns_acc = ActivationAccumulator.load(ts_lns_path)\n"
   ]
  },
  {
   "cell_type": "code",
   "execution_count": 73,
   "metadata": {},
   "outputs": [
    {
     "data": {
      "text/plain": [
       "array([-4.74661514e-02, -5.52795380e-02, -3.47713143e-01, -1.37044013e-01,\n",
       "       -2.23720029e-01, -1.51242360e-01,  4.98236865e-01,  1.76714852e-01,\n",
       "        5.81196286e-02, -2.97568161e-02,  8.80805179e-02,  6.95543811e-02,\n",
       "       -2.32697770e-01, -2.10933179e-01,  7.51010105e-02,  1.51567131e-01,\n",
       "        5.82788698e-02,  2.36606434e-01, -9.18041244e-02,  2.35757291e-01,\n",
       "       -2.65096486e-01, -2.66599059e-01, -2.21127167e-01,  9.79503170e-02,\n",
       "        2.28021115e-01,  6.86300024e-02,  1.34167215e-02, -7.47279497e-03,\n",
       "       -9.56141874e-02,  1.59272268e-01, -1.86542183e-01, -4.03831124e-01,\n",
       "        1.08123600e-01, -8.26770216e-02,  2.34255288e-02,  1.82128716e-02,\n",
       "        2.49716938e-01,  1.34248003e-01, -1.14334978e-01,  1.72418624e-01,\n",
       "        2.60775089e-01,  9.09975767e-02, -2.58001462e-02, -8.67809653e-02,\n",
       "       -1.83712989e-01, -2.40733802e-01, -3.21933627e-02,  6.33403584e-02,\n",
       "        2.18651211e-03,  1.88621089e-01, -2.46269591e-02, -8.31817463e-02,\n",
       "        1.12188734e-01, -1.59919426e-01,  1.52611241e-01,  1.89808890e-01,\n",
       "        6.66165352e-02, -4.01433945e-01,  1.28661960e-01,  2.39589766e-01,\n",
       "       -1.00943692e-01, -1.44639164e-01,  1.04620494e-01, -2.44465135e-02,\n",
       "       -9.47907639e+00,  3.36418390e-01, -4.25498225e-02, -2.92964071e-01,\n",
       "       -2.58267224e-01, -9.39239115e-02,  2.39690468e-01, -4.15927291e-01,\n",
       "        9.27213058e-02, -1.02256387e-01,  1.91798463e-01,  1.53335348e-01,\n",
       "        8.67548436e-02, -9.09189284e-02,  8.49879459e-02, -5.20758070e-02,\n",
       "        3.90193537e-02, -9.41211544e-03, -4.71583866e-02,  1.62799731e-02,\n",
       "       -8.37274715e-02,  1.40675530e-01, -4.04289722e-01, -2.51244688e+00,\n",
       "       -2.46879105e-02, -7.81043693e-02, -3.04036707e-01,  1.79880708e-01,\n",
       "        1.49968013e-01, -8.45800787e-02, -5.52794598e-02,  6.93731755e-02,\n",
       "       -2.24159565e-02, -3.42375338e-01,  1.06296174e-01,  1.78656772e-01,\n",
       "        1.03832185e-01,  9.19501424e-01,  3.76710266e-01, -1.97533920e-01,\n",
       "       -1.27353474e-01,  4.51833099e-01, -2.24945903e-01,  4.71173823e-02,\n",
       "       -5.75399138e-02, -1.77741230e-01,  1.48063004e-01,  3.09468433e-02,\n",
       "        3.93974446e-02, -1.17717152e-02, -1.49369776e-01, -4.05907929e-02,\n",
       "       -4.24092114e-01, -7.04416484e-02, -2.06412017e-01,  5.71982324e-01,\n",
       "       -2.57815570e-01, -2.74705868e-02,  1.79216072e-01, -1.18312642e-01,\n",
       "        1.94261111e-02,  2.79796752e-03, -1.57793388e-01, -8.41032565e-01,\n",
       "       -9.39358026e-02,  2.72750147e-02,  1.42905295e-01, -1.76203772e-01,\n",
       "       -4.04489756e-01,  1.02505587e-01, -4.29923013e-02,  3.80352698e-02,\n",
       "       -1.18268296e-01, -4.51056147e-03,  1.03488520e-01,  4.79134247e-02,\n",
       "       -1.26635497e-02, -4.81716171e-02,  7.12245405e-02,  1.80187136e-01,\n",
       "        1.63951769e-01, -2.60619164e-01,  4.65883575e-02, -3.41233373e-01,\n",
       "       -4.04364727e-02, -2.80272752e-01, -4.67090547e-01,  2.38041803e-01,\n",
       "        1.09741852e-01, -2.62748867e-01,  1.51993454e-01, -2.28367373e-01,\n",
       "       -2.08992004e-01,  1.15988344e-01,  1.70065463e-01,  4.26564962e-02,\n",
       "        5.11916935e-01,  3.55158262e-02, -1.67297885e-01, -1.31500512e-01,\n",
       "       -9.02471021e-02,  4.69150618e-02,  1.82639211e-01, -8.29160154e-01,\n",
       "       -4.87958407e-03, -1.15213543e-01, -2.53570471e-02,  1.21482477e-01,\n",
       "        1.26214832e-01,  3.26708436e-01, -1.03720769e-01, -2.15127096e-01,\n",
       "       -3.76840383e-02, -1.73902046e-02,  4.42168772e-01, -9.29520428e-02,\n",
       "       -2.18183752e-02, -6.14604214e-03,  1.97010953e-03, -2.45292589e-01,\n",
       "       -1.98519066e-01, -2.09773239e-02,  1.40101075e-01,  1.93226680e-01,\n",
       "       -1.26851365e-01,  9.61742848e-02, -2.37409920e-01,  2.47964650e-01,\n",
       "       -3.86007279e-01, -7.25883320e-02, -1.45729318e-01, -8.29117894e-01,\n",
       "       -6.80247368e-03, -4.34536517e-01, -2.23551337e-02, -2.83096433e-01,\n",
       "        5.51411249e-02, -9.68685672e-02, -4.08834107e-02, -1.54154435e-01,\n",
       "        5.58082573e-02, -1.09089904e-01, -2.42276564e-01, -2.46276066e-01,\n",
       "       -7.56830126e-02,  3.41333225e-02,  1.39636202e-02, -2.44370162e-01,\n",
       "       -5.15380176e-03,  1.00349888e-01,  1.69435263e-01,  2.59961486e-01,\n",
       "       -1.14080636e-02,  4.23859209e-02,  2.84477144e-01, -4.16485444e-02,\n",
       "       -1.48495868e-01,  7.94252604e-02, -3.98784801e-02,  1.20426230e-01,\n",
       "        8.39091241e-02, -2.52958953e-01, -1.87769324e-01, -1.77676067e-01,\n",
       "       -3.72690111e-02, -4.77085114e-02, -5.80759905e-02, -1.73508108e-03,\n",
       "       -1.50547968e-02,  2.13009641e-01, -6.43362179e-02, -1.24237575e-01,\n",
       "       -7.72931203e-02, -4.73759100e-02, -7.75207952e-02, -2.25644112e-01,\n",
       "        1.27431855e-01,  2.41306052e-01, -7.02762231e-03,  2.50119597e-01,\n",
       "        7.14248195e-02,  1.29690149e-03,  2.66684592e-01, -6.34244159e-02,\n",
       "       -7.30127618e-02,  2.82108009e-01,  7.08294741e-04,  1.56683713e-01,\n",
       "       -6.57792464e-02, -2.49686502e-02, -6.13793097e-02,  1.83799982e-01,\n",
       "       -1.58407897e-01,  2.32339953e-03,  8.26005358e-03,  4.08662632e-02,\n",
       "       -3.20042251e-03,  1.10712014e-01, -4.00463566e-02,  5.07296696e-02,\n",
       "        7.46527389e-02,  5.16921319e-02,  4.05969143e+00,  3.10765296e-01,\n",
       "       -3.17907751e-01, -3.75192501e-02, -2.19389349e-01,  1.57127619e-01,\n",
       "        1.27315866e-02,  4.68705930e-02,  7.48190954e-02, -1.44462600e-01,\n",
       "        5.18908761e-02, -6.32212088e-02,  1.08834002e-02,  1.22806087e-01,\n",
       "       -3.91226681e-03,  3.90466899e-02,  1.70471966e-01, -2.16751665e-01,\n",
       "       -3.43030058e-02, -2.38668889e-01,  5.65383583e-02, -7.73352161e-02,\n",
       "        1.08120179e+00, -6.65617526e-01,  5.34862354e-02, -1.57426625e-01,\n",
       "       -1.95823535e-01, -1.90026715e-01, -2.30310723e-01,  2.99649179e-01,\n",
       "        1.74248755e-01, -1.78452313e-01,  1.52714215e-02, -5.98979592e-02,\n",
       "        1.98090330e-01, -1.37044430e-01,  2.71622509e-01,  1.53652266e-01,\n",
       "       -4.86261174e-02,  9.14386064e-02, -2.25363061e-01, -1.25859976e-01,\n",
       "       -3.76737863e-01,  6.91985637e-02, -2.17433780e-01, -9.44992602e-01,\n",
       "       -1.66985452e-01,  1.18662700e-01, -1.69520652e+00, -1.76258132e-01,\n",
       "       -1.90956846e-01, -2.13485062e-01, -8.34970325e-02,  1.89695358e-02,\n",
       "       -1.50108561e-02,  1.29278690e-01,  1.19440883e-01,  4.10487771e-01,\n",
       "       -2.03384124e-02,  3.91626917e-02,  4.00172901e+00, -1.10681506e-03,\n",
       "       -1.10392265e-01, -7.09435493e-02,  8.15938339e-02,  9.32898149e-02,\n",
       "        1.32332265e-01,  1.17213786e-01, -2.33342484e-01,  6.35470077e-02,\n",
       "       -4.31706049e-02,  2.41278503e-02,  7.73625355e-03, -2.92512085e-02,\n",
       "        1.04439124e-01,  5.70363291e-02,  5.60658239e-02,  1.03437103e-01,\n",
       "        9.35249478e-02,  1.91995844e-01, -6.33838102e-02,  2.79326886e-01,\n",
       "        1.46267749e-02, -5.07360063e-02,  7.97925368e-02,  2.66229063e-01,\n",
       "        1.14496343e-01, -6.92394376e-03,  4.03193861e-01, -1.68217748e-01,\n",
       "       -2.34641194e-01, -6.83572963e-02,  2.60403961e-01,  1.07935660e-01,\n",
       "       -1.81637481e-01,  6.05272921e-03,  6.22992553e-02,  2.08215609e-01,\n",
       "        2.49453932e-02, -4.11318004e-01,  1.73565656e-01,  2.02471271e-01,\n",
       "        1.44260749e-01,  3.85111719e-02,  2.92981863e-01,  4.69979733e-01,\n",
       "        1.62342161e-01, -6.42116499e+00,  2.60494292e-01, -1.37973413e-01,\n",
       "       -5.94048295e-04,  5.88655353e-01,  6.30229235e-01,  2.24132240e-01,\n",
       "        3.62225890e-01,  1.41050428e-01, -2.99550127e-02,  3.58262479e-01,\n",
       "        1.92545667e-01, -7.58901089e-02,  5.32275699e-02, -9.73206684e-02,\n",
       "       -8.69857669e-02,  3.80770802e-01, -1.96697503e-01, -3.42926919e-01,\n",
       "        2.52309721e-02,  4.40058517e+00,  2.28953362e-02,  2.61278570e-01,\n",
       "       -1.68660417e-01, -1.47715822e-01, -3.94330136e-02, -6.32515103e-02,\n",
       "       -3.46150324e-02, -7.23361373e-02, -1.58479109e-01, -7.22387657e-02,\n",
       "       -9.33199003e-02,  1.80043817e-01, -2.48312601e-03, -3.65974158e-01,\n",
       "        3.03917438e-01, -2.92884976e-01, -2.24762872e-01,  2.09588215e-01,\n",
       "       -3.53180319e-01,  2.34325588e-01, -2.41578028e-01,  8.60034674e-03,\n",
       "       -9.83649045e-02, -3.41031194e-01,  1.32914819e-02,  9.85618010e-02,\n",
       "        1.92597181e-01,  2.23116893e-02,  1.75035726e-02,  2.35570937e-01,\n",
       "        4.86950390e-02, -1.95852742e-02,  3.26206326e-01,  7.72871077e-02,\n",
       "       -1.59160215e-02, -3.93454760e-01,  8.07131767e-01,  1.24426764e-02,\n",
       "       -2.59017255e-02,  3.88674065e-02, -1.74499780e-01, -6.30732924e-02,\n",
       "       -1.98267563e-03,  2.50663549e-01,  5.74038103e-02, -2.16745049e-01,\n",
       "        1.54820178e-02, -3.68802369e-01, -2.41373613e-01, -3.06271553e-01,\n",
       "        1.27681540e-02,  2.40663201e-01,  3.52596864e-02,  1.19847460e+01,\n",
       "        5.47675639e-02,  7.88447782e-02,  2.99230069e-01,  6.93553239e-02,\n",
       "       -4.43799868e-02, -2.23098531e-01,  6.32172748e-02,  1.05972782e-01,\n",
       "       -1.43198088e-01, -2.70051330e-01, -1.41715765e-01,  4.45479564e-02,\n",
       "       -1.23140253e-01,  1.42158689e-02, -9.04236212e-02, -2.86919456e-02,\n",
       "        3.11070800e-01, -1.48744389e-01, -8.12280327e-02,  9.15841833e-02,\n",
       "        9.64511335e-02,  1.01128593e-02, -3.87646779e-02,  2.16842040e-01,\n",
       "        7.41962418e-02,  1.00155838e-01, -2.38466218e-01, -1.97251156e-01,\n",
       "       -2.95593850e-02, -6.10412173e-02,  2.38385126e-02, -4.37228121e-02,\n",
       "       -3.07640696e+00,  3.53676796e+00, -1.52391285e-01,  2.99091805e-02,\n",
       "        2.54547689e-02, -1.20991699e-01,  8.87166783e-02, -1.24898795e-02,\n",
       "        7.02473428e-03, -1.16607532e-01, -2.18498170e-01, -1.75261106e-02,\n",
       "       -4.38664779e-02, -2.04316646e-01,  2.45090604e-01,  3.31178904e-02,\n",
       "        4.06308949e-01,  2.58671585e-02, -6.29540086e-02, -6.51551932e-02,\n",
       "       -9.88164842e-02, -1.98828783e-02, -6.81142882e-02,  1.07062504e-01,\n",
       "       -7.39518404e-02, -7.59230629e-02, -1.44668713e-01,  1.20313264e-01,\n",
       "       -2.52428651e-01, -1.61666200e-01, -1.04025610e-01,  1.29757300e-01,\n",
       "        1.54269770e-01, -2.48146281e-01, -2.40778804e-01, -1.19809493e-01,\n",
       "       -3.17321628e-01,  1.45798221e-01,  1.44307241e-01,  6.55500367e-02,\n",
       "        4.50431332e-02,  7.90492222e-02,  3.22881676e-02,  1.10215835e-01,\n",
       "        5.05660623e-02,  5.24958409e-02, -8.71943772e-01, -3.02725464e-01,\n",
       "        9.24097002e-02,  3.07550970e-02, -1.44001693e-01, -6.72968552e-02,\n",
       "        1.27289027e-01,  2.82375127e-01, -5.46559207e-02,  3.01985741e-01,\n",
       "       -1.54395141e-02,  2.71551967e-01, -1.26044139e-01, -7.26951286e-02,\n",
       "       -2.99089570e-02, -7.61187300e-02,  1.45458415e-01,  3.74467731e-01,\n",
       "        7.33922049e-02,  5.21743417e-01, -3.08210433e-01, -4.89171207e-01,\n",
       "       -2.33930163e-03, -8.01853687e-02, -2.01330498e-01, -6.17893599e-03,\n",
       "       -4.41488298e-03,  2.40559682e-01, -8.87611508e-01,  1.76474109e-01,\n",
       "       -2.77727423e-03,  7.48889223e-02, -4.27258871e-02, -1.71570450e-01,\n",
       "        3.76269549e-01, -6.34769560e-04,  4.98475321e-02, -3.04555171e-03,\n",
       "        2.74132907e-01,  2.81643812e-02,  3.58126849e-01, -6.03416823e-02,\n",
       "       -1.39792681e-01, -2.70800292e-02,  4.53612767e-02,  1.06222406e-01,\n",
       "        2.02111930e-01, -1.38907552e-01, -1.65601462e-01,  2.97315657e-01,\n",
       "       -2.25046530e-01,  1.71255887e-01, -1.55780703e-01, -1.25134960e-01,\n",
       "        1.10058606e-01,  1.57002639e-03,  1.48131981e-01,  6.52094707e-02,\n",
       "        1.15671031e-01,  2.49582052e-01,  1.24480173e-01, -1.12783089e-01,\n",
       "       -7.49819279e-02,  1.56973019e-01,  6.89946041e-02, -1.84967611e-02,\n",
       "        1.29348308e-01,  7.60435089e-02,  3.19577530e-02, -7.78018013e-02,\n",
       "       -2.16443196e-01,  2.06460714e-01,  2.15137780e-01,  9.25662220e-02,\n",
       "       -5.10421693e-01, -3.04232061e-01, -7.24316016e-02,  9.31355953e-02,\n",
       "        1.53356671e-01, -2.96716124e-01,  4.90792133e-02, -3.37084457e-02,\n",
       "        5.09126663e-01, -1.02956690e-01,  1.15286142e-01,  1.08892754e-01,\n",
       "       -9.66352224e-02,  3.05883028e-02, -1.19448446e-01,  1.37014076e-01,\n",
       "       -2.38976479e-01, -1.49455085e-01,  4.39995706e-01,  1.37112081e-01,\n",
       "       -7.71506310e-01, -6.20860495e-02, -1.62111580e-01, -9.59137082e-02,\n",
       "        1.44450977e-01, -2.48170733e-01, -9.38664898e-02, -4.26306156e-03,\n",
       "       -9.76781026e-02,  6.20694309e-02,  4.81950818e-03, -2.85775483e-01,\n",
       "       -3.05982176e-02,  2.31790796e-01, -5.50709367e-02,  4.14219052e-02,\n",
       "       -8.98874030e-02,  8.48992765e-02, -1.84856087e-01,  1.37475669e-01,\n",
       "        2.33877349e+00, -4.31042910e-02, -3.33084255e-01, -1.00345105e-01,\n",
       "        2.81214207e-01,  3.73780757e-01, -1.07740648e-01, -3.81107807e-01,\n",
       "       -8.66899341e-02, -4.93917346e-01,  1.27655774e-01,  6.62503839e-02,\n",
       "        1.36504069e-01,  2.97600925e-01, -2.82753289e-01, -1.79168865e-01,\n",
       "       -4.58009308e-03, -1.90097820e-02, -4.45392281e-02,  4.25054692e-02,\n",
       "       -8.86088833e-02,  1.93295315e-01,  7.58830309e-02, -1.75980940e-01,\n",
       "        1.22668892e-01,  2.57096052e-01,  3.77196550e-01,  1.65829614e-01,\n",
       "        5.06284647e-02,  5.87827973e-02, -2.65103519e-01,  7.50383064e-02,\n",
       "       -1.35208383e-01, -8.00278783e-02, -1.92570657e-01, -1.28921513e-02,\n",
       "        2.79600680e-01, -1.59391925e-01,  4.69900310e-01,  8.21540833e-01,\n",
       "       -4.12774324e-01, -1.28499225e-01, -2.17474535e-01,  1.54176310e-01,\n",
       "       -3.92700136e-02,  2.54095756e-02,  2.29791664e-02, -9.59101990e-02,\n",
       "       -8.06846917e-02, -1.52146235e-01,  5.31739630e-02,  4.66774665e-02,\n",
       "       -1.31337181e-01,  9.03070066e-03, -5.03706038e-02,  3.67788039e-02,\n",
       "       -1.99112490e-01, -1.20691292e-01, -5.92158288e-02, -3.75364125e-01,\n",
       "       -5.50969057e-02, -6.06035739e-02,  2.55128622e-01,  2.60562580e-02,\n",
       "        7.33324438e-02, -7.45829791e-02, -2.43017748e-01, -5.27056642e-02,\n",
       "        4.70478944e-02, -9.51730087e-03,  1.21127225e-01, -6.24937654e-01,\n",
       "        4.22427803e-02, -1.22198619e-01, -2.68861698e-03,  3.30426842e-01,\n",
       "        7.10613430e-02, -1.76567793e-01,  4.31876123e-01,  1.90404922e-01,\n",
       "       -1.77935481e-01,  1.94695696e-01,  8.34745318e-02, -6.89520780e-03,\n",
       "       -3.08956243e-02, -7.52749890e-02,  1.90085843e-01,  2.68528163e-01,\n",
       "       -9.76913273e-02,  1.19266585e-01,  3.70028704e-01, -4.24086481e-01,\n",
       "       -1.56425208e-01, -1.61181077e-01, -6.65915385e-02, -1.47105187e-01,\n",
       "        3.81909758e-02,  1.43850684e-01, -3.47063690e-02, -2.94246525e-01,\n",
       "        1.21778332e-01, -1.99207768e-01,  4.44333375e-01, -2.69913793e-01,\n",
       "        1.73018366e-01, -1.30470252e+00, -4.15986240e-01, -1.39701247e-01,\n",
       "        3.00909467e-02, -9.18527097e-02,  8.87757987e-02,  2.04452537e-02,\n",
       "       -1.60232693e-01,  7.27576390e-02,  4.16975394e-02, -4.04873013e-01,\n",
       "       -1.37316370e+00,  4.31273244e-02, -1.91765055e-01,  2.99946032e-02,\n",
       "       -4.43243049e-02, -1.29714817e-01,  9.89348769e-01,  5.89748397e-02,\n",
       "        6.29595807e-03,  1.16070494e-01,  8.22594315e-02, -2.17782017e-02],\n",
       "      dtype=float32)"
      ]
     },
     "execution_count": 73,
     "metadata": {},
     "output_type": "execute_result"
    }
   ],
   "source": [
    "activations_NSD_ = ts_ln2_acc.get_activations()\n",
    "N, S, D = activations_NSD_.shape\n",
    "activations_ND_ = np.reshape(activations_NSD_, (N * S, D))\n",
    "activations_ND_.mean(axis=0)"
   ]
  },
  {
   "cell_type": "code",
   "execution_count": 75,
   "metadata": {},
   "outputs": [
    {
     "name": "stdout",
     "output_type": "stream",
     "text": [
      "110.342155\n",
      "261.3502\n"
     ]
    },
    {
     "data": {
      "image/png": "[encoded data removed]",
      "text/plain": [
       "<Figure size 1000x600 with 1 Axes>"
      ]
     },
     "metadata": {},
     "output_type": "display_data"
    },
    {
     "data": {
      "image/png": "[encoded data removed]",
      "text/plain": [
       "<Figure size 1000x600 with 1 Axes>"
      ]
     },
     "metadata": {},
     "output_type": "display_data"
    }
   ],
   "source": [
    "ts_resid_post_norms_N, ts_resid_post_norms_centered_N = get_norms(ts_resid_post_acc)\n",
    "mean_ts_resid_post_norms_N = ts_resid_post_norms_N.mean()\n",
    "std_ts_resid_post_norms_N = ts_resid_post_norms_N.std()\n",
    "print(mean_ts_resid_post_norms_N)\n",
    "print(std_ts_resid_post_norms_N)\n",
    "\n",
    "\n",
    "# plot_histogram(ts_resid_post_norms_N, \"tinystories resid post\")\n",
    "plot_histogram(ts_resid_post_norms_centered_N, \"tinystories resid post centered\")\n",
    "plot_histogram_bounded(ts_resid_post_norms_centered_N, \"tinystories resid post centered (cropped)\")\n",
    "\n",
    "# ts_ln2_norms_N, ts_ln2_norms_centered_N = get_norms(ts_ln2_acc)\n",
    "# plot_histogram(ts_ln2_norms_N, \"tinystories ln2\")\n",
    "# plot_histogram(ts_ln2_norms_centered_N, \"tinystories ln2 centered\")\n",
    "\n",
    "# ts_lns_norms_N, ts_lns_norms_centered_N = get_norms(ts_lns_acc)\n",
    "# plot_histogram(ts_lns_norms_N, \"tinystories lns\")\n",
    "# plot_histogram(ts_lns_norms_centered_N, \"tinystories lns centered\")\n",
    "\n"
   ]
  },
  {
   "cell_type": "code",
   "execution_count": 48,
   "metadata": {},
   "outputs": [
    {
     "name": "stdout",
     "output_type": "stream",
     "text": [
      "allocating space for 1000 sequences of activations\n",
      "Loaded 999 sequences of activations\n",
      "allocating space for 5461 sequences of activations\n",
      "Loaded 1279 sequences of activations\n"
     ]
    }
   ],
   "source": [
    "# common_corpus\n",
    "cc_resid_post_path = Path(\"data\") / \"PleIAs/common_corpus\" / \"blocks.6.hook_resid_post\" / \"activations139.npy\"\n",
    "cc_resid_post_acc = ActivationAccumulator.load(cc_resid_post_path)\n",
    "\n",
    "cc_ln2_path = Path(\"data\") / \"PleIAs/common_corpus\" / \"blocks.6.ln2.hook_normalized\" / \"activations9.npy\"\n",
    "cc_ln2_acc = ActivationAccumulator.load(cc_ln2_path)"
   ]
  },
  {
   "cell_type": "code",
   "execution_count": 49,
   "metadata": {},
   "outputs": [
    {
     "data": {
      "image/png": "[encoded data removed]",
      "text/plain": [
       "<Figure size 1000x600 with 1 Axes>"
      ]
     },
     "metadata": {},
     "output_type": "display_data"
    },
    {
     "data": {
      "image/png": "[encoded data removed]",
      "text/plain": [
       "<Figure size 1000x600 with 1 Axes>"
      ]
     },
     "metadata": {},
     "output_type": "display_data"
    }
   ],
   "source": [
    "plot_histogram(get_norms(cc_ln2_acc))\n",
    "plot_histogram(get_norms(cc_resid_post_acc))"
   ]
  },
  {
   "cell_type": "code",
   "execution_count": 31,
   "metadata": {},
   "outputs": [
    {
     "name": "stdout",
     "output_type": "stream",
     "text": [
      "Truncating data/roneneldan/TinyStories/activations9.npy from 1000 to 1000\n",
      "Truncating data/PleIAs/common_corpus/activations139.npy from 17919 to 1000\n"
     ]
    }
   ],
   "source": [
    "# # overwrite huge file with smaller one\n",
    "# def truncate_activations(acc: ActivationAccumulator, clip_size: int, path: Path):\n",
    "#     assert acc._index >= clip_size, f\"Index {acc._index} is not greater than clip size {clip_size}\"\n",
    "#     print(f\"Truncating {path} from {acc._index} to {clip_size}\")\n",
    "#     acc._activations_NSD = acc._activations_NSD[:clip_size]\n",
    "#     acc._index = clip_size\n",
    "#     acc.save(path)\n",
    "\n",
    "# truncate_activations(ts_acc, 1_000, ts_path)\n",
    "# truncate_activations(cc_acc, 1_000, cc_path)"
   ]
  },
  {
   "cell_type": "code",
   "execution_count": null,
   "metadata": {},
   "outputs": [],
   "source": []
  }
 ],
 "metadata": {
  "kernelspec": {
   "display_name": ".venv",
   "language": "python",
   "name": "python3"
  },
  "language_info": {
   "codemirror_mode": {
    "name": "ipython",
    "version": 3
   },
   "file_extension": ".py",
   "mimetype": "text/x-python",
   "name": "python",
   "nbconvert_exporter": "python",
   "pygments_lexer": "ipython3",
   "version": "3.12.3"
  }
 },
 "nbformat": 4,
 "nbformat_minor": 2
}
